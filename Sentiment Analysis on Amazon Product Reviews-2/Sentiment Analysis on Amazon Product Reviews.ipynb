{
 "cells": [
  {
   "cell_type": "markdown",
   "id": "7c01a3aa",
   "metadata": {},
   "source": [
    "# Import  all necessary library"
   ]
  },
  {
   "cell_type": "code",
   "execution_count": 141,
   "id": "ffd9e38a",
   "metadata": {},
   "outputs": [],
   "source": [
    "import pandas as pd \n",
    "import seaborn as sns\n",
    "from imblearn.over_sampling import RandomOverSampler\n",
    "import warnings\n",
    "warnings.filterwarnings('ignore')"
   ]
  },
  {
   "cell_type": "code",
   "execution_count": 142,
   "id": "63ac4990",
   "metadata": {},
   "outputs": [],
   "source": [
    "#import dataset\n",
    "df = pd.read_csv('amazon.csv')"
   ]
  },
  {
   "cell_type": "code",
   "execution_count": 143,
   "id": "13733162",
   "metadata": {},
   "outputs": [
    {
     "data": {
      "text/html": [
       "<div>\n",
       "<style scoped>\n",
       "    .dataframe tbody tr th:only-of-type {\n",
       "        vertical-align: middle;\n",
       "    }\n",
       "\n",
       "    .dataframe tbody tr th {\n",
       "        vertical-align: top;\n",
       "    }\n",
       "\n",
       "    .dataframe thead th {\n",
       "        text-align: right;\n",
       "    }\n",
       "</style>\n",
       "<table border=\"1\" class=\"dataframe\">\n",
       "  <thead>\n",
       "    <tr style=\"text-align: right;\">\n",
       "      <th></th>\n",
       "      <th>reviewText</th>\n",
       "      <th>Positive</th>\n",
       "    </tr>\n",
       "  </thead>\n",
       "  <tbody>\n",
       "    <tr>\n",
       "      <th>0</th>\n",
       "      <td>This is a one of the best apps acording to a b...</td>\n",
       "      <td>1</td>\n",
       "    </tr>\n",
       "    <tr>\n",
       "      <th>1</th>\n",
       "      <td>This is a pretty good version of the game for ...</td>\n",
       "      <td>1</td>\n",
       "    </tr>\n",
       "    <tr>\n",
       "      <th>2</th>\n",
       "      <td>this is a really cool game. there are a bunch ...</td>\n",
       "      <td>1</td>\n",
       "    </tr>\n",
       "    <tr>\n",
       "      <th>3</th>\n",
       "      <td>This is a silly game and can be frustrating, b...</td>\n",
       "      <td>1</td>\n",
       "    </tr>\n",
       "    <tr>\n",
       "      <th>4</th>\n",
       "      <td>This is a terrific game on any pad. Hrs of fun...</td>\n",
       "      <td>1</td>\n",
       "    </tr>\n",
       "  </tbody>\n",
       "</table>\n",
       "</div>"
      ],
      "text/plain": [
       "                                          reviewText  Positive\n",
       "0  This is a one of the best apps acording to a b...         1\n",
       "1  This is a pretty good version of the game for ...         1\n",
       "2  this is a really cool game. there are a bunch ...         1\n",
       "3  This is a silly game and can be frustrating, b...         1\n",
       "4  This is a terrific game on any pad. Hrs of fun...         1"
      ]
     },
     "execution_count": 143,
     "metadata": {},
     "output_type": "execute_result"
    }
   ],
   "source": [
    "#show the data\n",
    "df.head()"
   ]
  },
  {
   "cell_type": "code",
   "execution_count": 144,
   "id": "3d5756fb",
   "metadata": {},
   "outputs": [
    {
     "data": {
      "text/plain": [
       "1    15233\n",
       "0     4767\n",
       "Name: Positive, dtype: int64"
      ]
     },
     "execution_count": 144,
     "metadata": {},
     "output_type": "execute_result"
    }
   ],
   "source": [
    "df.Positive.value_counts()"
   ]
  },
  {
   "cell_type": "code",
   "execution_count": 145,
   "id": "3009a8fa",
   "metadata": {},
   "outputs": [
    {
     "data": {
      "text/plain": [
       "reviewText    0\n",
       "Positive      0\n",
       "dtype: int64"
      ]
     },
     "execution_count": 145,
     "metadata": {},
     "output_type": "execute_result"
    }
   ],
   "source": [
    "#let's see is there any nan value available or not\n",
    "df.isnull().sum()"
   ]
  },
  {
   "cell_type": "code",
   "execution_count": 146,
   "id": "6bc64ea9",
   "metadata": {},
   "outputs": [],
   "source": [
    "df = df.rename(columns = {'reviewText' : \"taxt\" , 'Positive' : 'target'} )"
   ]
  },
  {
   "cell_type": "code",
   "execution_count": 147,
   "id": "2316f5d2",
   "metadata": {},
   "outputs": [
    {
     "data": {
      "text/html": [
       "<div>\n",
       "<style scoped>\n",
       "    .dataframe tbody tr th:only-of-type {\n",
       "        vertical-align: middle;\n",
       "    }\n",
       "\n",
       "    .dataframe tbody tr th {\n",
       "        vertical-align: top;\n",
       "    }\n",
       "\n",
       "    .dataframe thead th {\n",
       "        text-align: right;\n",
       "    }\n",
       "</style>\n",
       "<table border=\"1\" class=\"dataframe\">\n",
       "  <thead>\n",
       "    <tr style=\"text-align: right;\">\n",
       "      <th></th>\n",
       "      <th>taxt</th>\n",
       "      <th>target</th>\n",
       "    </tr>\n",
       "  </thead>\n",
       "  <tbody>\n",
       "    <tr>\n",
       "      <th>0</th>\n",
       "      <td>This is a one of the best apps acording to a b...</td>\n",
       "      <td>1</td>\n",
       "    </tr>\n",
       "    <tr>\n",
       "      <th>1</th>\n",
       "      <td>This is a pretty good version of the game for ...</td>\n",
       "      <td>1</td>\n",
       "    </tr>\n",
       "    <tr>\n",
       "      <th>2</th>\n",
       "      <td>this is a really cool game. there are a bunch ...</td>\n",
       "      <td>1</td>\n",
       "    </tr>\n",
       "    <tr>\n",
       "      <th>3</th>\n",
       "      <td>This is a silly game and can be frustrating, b...</td>\n",
       "      <td>1</td>\n",
       "    </tr>\n",
       "    <tr>\n",
       "      <th>4</th>\n",
       "      <td>This is a terrific game on any pad. Hrs of fun...</td>\n",
       "      <td>1</td>\n",
       "    </tr>\n",
       "  </tbody>\n",
       "</table>\n",
       "</div>"
      ],
      "text/plain": [
       "                                                taxt  target\n",
       "0  This is a one of the best apps acording to a b...       1\n",
       "1  This is a pretty good version of the game for ...       1\n",
       "2  this is a really cool game. there are a bunch ...       1\n",
       "3  This is a silly game and can be frustrating, b...       1\n",
       "4  This is a terrific game on any pad. Hrs of fun...       1"
      ]
     },
     "execution_count": 147,
     "metadata": {},
     "output_type": "execute_result"
    }
   ],
   "source": [
    "df.head()"
   ]
  },
  {
   "cell_type": "code",
   "execution_count": 148,
   "id": "a863ec2b",
   "metadata": {},
   "outputs": [
    {
     "data": {
      "text/plain": [
       "0"
      ]
     },
     "execution_count": 148,
     "metadata": {},
     "output_type": "execute_result"
    }
   ],
   "source": [
    "df.duplicated().sum()"
   ]
  },
  {
   "cell_type": "code",
   "execution_count": 149,
   "id": "b10565dd",
   "metadata": {},
   "outputs": [
    {
     "data": {
      "text/plain": [
       "<AxesSubplot: xlabel='target', ylabel='count'>"
      ]
     },
     "execution_count": 149,
     "metadata": {},
     "output_type": "execute_result"
    },
    {
     "data": {
      "image/png": "[encoded data removed]",
      "text/plain": [
       "<Figure size 640x480 with 1 Axes>"
      ]
     },
     "metadata": {},
     "output_type": "display_data"
    }
   ],
   "source": [
    "sns.countplot( x = df.target)"
   ]
  },
  {
   "cell_type": "markdown",
   "id": "9521f504",
   "metadata": {},
   "source": [
    "# Data Preprocessing"
   ]
  },
  {
   "cell_type": "code",
   "execution_count": 150,
   "id": "2f2d34d7",
   "metadata": {},
   "outputs": [],
   "source": [
    "from string import punctuation\n",
    "from nltk.corpus import stopwords\n",
    "from nltk.stem import WordNetLemmatizer\n",
    "from sklearn.feature_extraction.text import TfidfVectorizer"
   ]
  },
  {
   "cell_type": "code",
   "execution_count": 151,
   "id": "811ada34",
   "metadata": {},
   "outputs": [],
   "source": [
    "def Preprocessing(text):\n",
    "    punctuation_remove = [char for char in text if char not in punctuation]\n",
    "    join_word = ''.join(punctuation_remove)\n",
    "    split_word = join_word.split()\n",
    "    \n",
    "    remove_stopword = [word for word in split_word if word.lower() not in stopwords.words('english')]\n",
    "    add_to_sentence = ' '.join(remove_stopword)\n",
    "    \n",
    "    lemmatize_text =WordNetLemmatizer().lemmatize(add_to_sentence)\n",
    "    return lemmatize_text"
   ]
  },
  {
   "cell_type": "code",
   "execution_count": 152,
   "id": "d840bf3c",
   "metadata": {},
   "outputs": [],
   "source": [
    "df['taxt'] = df['taxt'].apply(Preprocessing)"
   ]
  },
  {
   "cell_type": "code",
   "execution_count": 153,
   "id": "d3743f4c",
   "metadata": {},
   "outputs": [
    {
     "data": {
      "text/html": [
       "<div>\n",
       "<style scoped>\n",
       "    .dataframe tbody tr th:only-of-type {\n",
       "        vertical-align: middle;\n",
       "    }\n",
       "\n",
       "    .dataframe tbody tr th {\n",
       "        vertical-align: top;\n",
       "    }\n",
       "\n",
       "    .dataframe thead th {\n",
       "        text-align: right;\n",
       "    }\n",
       "</style>\n",
       "<table border=\"1\" class=\"dataframe\">\n",
       "  <thead>\n",
       "    <tr style=\"text-align: right;\">\n",
       "      <th></th>\n",
       "      <th>taxt</th>\n",
       "    </tr>\n",
       "  </thead>\n",
       "  <tbody>\n",
       "    <tr>\n",
       "      <th>0</th>\n",
       "      <td>one best apps acording bunch people agree bomb...</td>\n",
       "    </tr>\n",
       "    <tr>\n",
       "      <th>1</th>\n",
       "      <td>pretty good version game free LOTS different l...</td>\n",
       "    </tr>\n",
       "    <tr>\n",
       "      <th>2</th>\n",
       "      <td>really cool game bunch levels find golden eggs...</td>\n",
       "    </tr>\n",
       "    <tr>\n",
       "      <th>3</th>\n",
       "      <td>silly game frustrating lots fun definitely rec...</td>\n",
       "    </tr>\n",
       "    <tr>\n",
       "      <th>4</th>\n",
       "      <td>terrific game pad Hrs fun grandkids love Great...</td>\n",
       "    </tr>\n",
       "  </tbody>\n",
       "</table>\n",
       "</div>"
      ],
      "text/plain": [
       "                                                taxt\n",
       "0  one best apps acording bunch people agree bomb...\n",
       "1  pretty good version game free LOTS different l...\n",
       "2  really cool game bunch levels find golden eggs...\n",
       "3  silly game frustrating lots fun definitely rec...\n",
       "4  terrific game pad Hrs fun grandkids love Great..."
      ]
     },
     "execution_count": 153,
     "metadata": {},
     "output_type": "execute_result"
    }
   ],
   "source": [
    "df[['taxt']].head()"
   ]
  },
  {
   "cell_type": "code",
   "execution_count": 154,
   "id": "de0d3d08",
   "metadata": {},
   "outputs": [
    {
     "data": {
      "text/html": [
       "<div>\n",
       "<style scoped>\n",
       "    .dataframe tbody tr th:only-of-type {\n",
       "        vertical-align: middle;\n",
       "    }\n",
       "\n",
       "    .dataframe tbody tr th {\n",
       "        vertical-align: top;\n",
       "    }\n",
       "\n",
       "    .dataframe thead th {\n",
       "        text-align: right;\n",
       "    }\n",
       "</style>\n",
       "<table border=\"1\" class=\"dataframe\">\n",
       "  <thead>\n",
       "    <tr style=\"text-align: right;\">\n",
       "      <th></th>\n",
       "      <th>taxt</th>\n",
       "      <th>target</th>\n",
       "    </tr>\n",
       "  </thead>\n",
       "  <tbody>\n",
       "    <tr>\n",
       "      <th>0</th>\n",
       "      <td>one best apps acording bunch people agree bomb...</td>\n",
       "      <td>1</td>\n",
       "    </tr>\n",
       "    <tr>\n",
       "      <th>1</th>\n",
       "      <td>pretty good version game free LOTS different l...</td>\n",
       "      <td>1</td>\n",
       "    </tr>\n",
       "    <tr>\n",
       "      <th>2</th>\n",
       "      <td>really cool game bunch levels find golden eggs...</td>\n",
       "      <td>1</td>\n",
       "    </tr>\n",
       "    <tr>\n",
       "      <th>3</th>\n",
       "      <td>silly game frustrating lots fun definitely rec...</td>\n",
       "      <td>1</td>\n",
       "    </tr>\n",
       "    <tr>\n",
       "      <th>4</th>\n",
       "      <td>terrific game pad Hrs fun grandkids love Great...</td>\n",
       "      <td>1</td>\n",
       "    </tr>\n",
       "  </tbody>\n",
       "</table>\n",
       "</div>"
      ],
      "text/plain": [
       "                                                taxt  target\n",
       "0  one best apps acording bunch people agree bomb...       1\n",
       "1  pretty good version game free LOTS different l...       1\n",
       "2  really cool game bunch levels find golden eggs...       1\n",
       "3  silly game frustrating lots fun definitely rec...       1\n",
       "4  terrific game pad Hrs fun grandkids love Great...       1"
      ]
     },
     "execution_count": 154,
     "metadata": {},
     "output_type": "execute_result"
    }
   ],
   "source": [
    "df.head()"
   ]
  },
  {
   "cell_type": "code",
   "execution_count": 155,
   "id": "7be84334",
   "metadata": {},
   "outputs": [
    {
     "data": {
      "text/plain": [
       "0        one best apps acording bunch people agree bomb...\n",
       "1        pretty good version game free LOTS different l...\n",
       "2        really cool game bunch levels find golden eggs...\n",
       "3        silly game frustrating lots fun definitely rec...\n",
       "4        terrific game pad Hrs fun grandkids love Great...\n",
       "                               ...                        \n",
       "19995    app fricken stupidit froze kindle wont allow p...\n",
       "19996    Please add need neighbors Ginger1016 thanks bu...\n",
       "19997    love game awesome wish free stuff houses didnt...\n",
       "19998    love love love app side fashion story fights w...\n",
       "19999    game rip list things MAKE BETTERbull First NEE...\n",
       "Name: taxt, Length: 20000, dtype: object"
      ]
     },
     "execution_count": 155,
     "metadata": {},
     "output_type": "execute_result"
    }
   ],
   "source": [
    "df['taxt']"
   ]
  },
  {
   "cell_type": "code",
   "execution_count": 156,
   "id": "9cc06d87",
   "metadata": {},
   "outputs": [
    {
     "data": {
      "text/html": [
       "<div>\n",
       "<style scoped>\n",
       "    .dataframe tbody tr th:only-of-type {\n",
       "        vertical-align: middle;\n",
       "    }\n",
       "\n",
       "    .dataframe tbody tr th {\n",
       "        vertical-align: top;\n",
       "    }\n",
       "\n",
       "    .dataframe thead th {\n",
       "        text-align: right;\n",
       "    }\n",
       "</style>\n",
       "<table border=\"1\" class=\"dataframe\">\n",
       "  <thead>\n",
       "    <tr style=\"text-align: right;\">\n",
       "      <th></th>\n",
       "      <th>taxt</th>\n",
       "      <th>target</th>\n",
       "    </tr>\n",
       "  </thead>\n",
       "  <tbody>\n",
       "    <tr>\n",
       "      <th>0</th>\n",
       "      <td>one best apps acording bunch people agree bomb...</td>\n",
       "      <td>1</td>\n",
       "    </tr>\n",
       "    <tr>\n",
       "      <th>1</th>\n",
       "      <td>pretty good version game free LOTS different l...</td>\n",
       "      <td>1</td>\n",
       "    </tr>\n",
       "    <tr>\n",
       "      <th>2</th>\n",
       "      <td>really cool game bunch levels find golden eggs...</td>\n",
       "      <td>1</td>\n",
       "    </tr>\n",
       "    <tr>\n",
       "      <th>3</th>\n",
       "      <td>silly game frustrating lots fun definitely rec...</td>\n",
       "      <td>1</td>\n",
       "    </tr>\n",
       "    <tr>\n",
       "      <th>4</th>\n",
       "      <td>terrific game pad Hrs fun grandkids love Great...</td>\n",
       "      <td>1</td>\n",
       "    </tr>\n",
       "  </tbody>\n",
       "</table>\n",
       "</div>"
      ],
      "text/plain": [
       "                                                taxt  target\n",
       "0  one best apps acording bunch people agree bomb...       1\n",
       "1  pretty good version game free LOTS different l...       1\n",
       "2  really cool game bunch levels find golden eggs...       1\n",
       "3  silly game frustrating lots fun definitely rec...       1\n",
       "4  terrific game pad Hrs fun grandkids love Great...       1"
      ]
     },
     "execution_count": 156,
     "metadata": {},
     "output_type": "execute_result"
    }
   ],
   "source": [
    "df.head()"
   ]
  },
  {
   "cell_type": "code",
   "execution_count": 157,
   "id": "cf934d0b",
   "metadata": {},
   "outputs": [
    {
     "data": {
      "text/plain": [
       "0        one best apps acording bunch people agree bomb...\n",
       "1        pretty good version game free LOTS different l...\n",
       "2        really cool game bunch levels find golden eggs...\n",
       "3        silly game frustrating lots fun definitely rec...\n",
       "4        terrific game pad Hrs fun grandkids love Great...\n",
       "                               ...                        \n",
       "19995    app fricken stupidit froze kindle wont allow p...\n",
       "19996    Please add need neighbors Ginger1016 thanks bu...\n",
       "19997    love game awesome wish free stuff houses didnt...\n",
       "19998    love love love app side fashion story fights w...\n",
       "19999    game rip list things MAKE BETTERbull First NEE...\n",
       "Name: taxt, Length: 20000, dtype: object"
      ]
     },
     "execution_count": 157,
     "metadata": {},
     "output_type": "execute_result"
    }
   ],
   "source": [
    "df['taxt']"
   ]
  },
  {
   "cell_type": "code",
   "execution_count": 186,
   "id": "a35aa323",
   "metadata": {},
   "outputs": [],
   "source": [
    "x  = TfidfVectorizer().fit_transform(df['taxt'])\n",
    "y =  df['target']"
   ]
  },
  {
   "cell_type": "code",
   "execution_count": 187,
   "id": "aca452dc",
   "metadata": {},
   "outputs": [
    {
     "data": {
      "text/plain": [
       "(20000, 23969)"
      ]
     },
     "execution_count": 187,
     "metadata": {},
     "output_type": "execute_result"
    }
   ],
   "source": [
    "x.shape"
   ]
  },
  {
   "cell_type": "code",
   "execution_count": 188,
   "id": "8d05f4b5",
   "metadata": {},
   "outputs": [
    {
     "data": {
      "text/plain": [
       "(20000,)"
      ]
     },
     "execution_count": 188,
     "metadata": {},
     "output_type": "execute_result"
    }
   ],
   "source": [
    "y.shape"
   ]
  },
  {
   "cell_type": "code",
   "execution_count": 189,
   "id": "99ffe038",
   "metadata": {},
   "outputs": [
    {
     "data": {
      "text/plain": [
       "<20000x23969 sparse matrix of type '<class 'numpy.float64'>'\n",
       "\twith 313331 stored elements in Compressed Sparse Row format>"
      ]
     },
     "execution_count": 189,
     "metadata": {},
     "output_type": "execute_result"
    }
   ],
   "source": [
    "x"
   ]
  },
  {
   "cell_type": "code",
   "execution_count": 190,
   "id": "bfd3551a",
   "metadata": {},
   "outputs": [
    {
     "data": {
      "text/plain": [
       "0        1\n",
       "1        1\n",
       "2        1\n",
       "3        1\n",
       "4        1\n",
       "        ..\n",
       "19995    0\n",
       "19996    1\n",
       "19997    1\n",
       "19998    1\n",
       "19999    0\n",
       "Name: target, Length: 20000, dtype: int64"
      ]
     },
     "execution_count": 190,
     "metadata": {},
     "output_type": "execute_result"
    }
   ],
   "source": [
    "y"
   ]
  },
  {
   "cell_type": "markdown",
   "id": "f9289760",
   "metadata": {},
   "source": [
    "# imbalanced data handling "
   ]
  },
  {
   "cell_type": "code",
   "execution_count": 191,
   "id": "0352b18a",
   "metadata": {},
   "outputs": [],
   "source": [
    "over = RandomOverSampler(random_state=100)"
   ]
  },
  {
   "cell_type": "code",
   "execution_count": 192,
   "id": "ba782440",
   "metadata": {},
   "outputs": [],
   "source": [
    "new_x , new_y = over.fit_resample(x ,y)"
   ]
  },
  {
   "cell_type": "code",
   "execution_count": 193,
   "id": "4771ca06",
   "metadata": {},
   "outputs": [
    {
     "data": {
      "text/plain": [
       "0    1\n",
       "1    1\n",
       "2    1\n",
       "3    1\n",
       "4    1\n",
       "Name: target, dtype: int64"
      ]
     },
     "execution_count": 193,
     "metadata": {},
     "output_type": "execute_result"
    }
   ],
   "source": [
    "new_y.head()"
   ]
  },
  {
   "cell_type": "code",
   "execution_count": 194,
   "id": "9ebc852a",
   "metadata": {},
   "outputs": [
    {
     "data": {
      "text/plain": [
       "((30466, 23969), (30466,))"
      ]
     },
     "execution_count": 194,
     "metadata": {},
     "output_type": "execute_result"
    }
   ],
   "source": [
    "new_x.shape , new_y.shape"
   ]
  },
  {
   "cell_type": "markdown",
   "id": "47f44cb1",
   "metadata": {},
   "source": [
    "# Model Selection"
   ]
  },
  {
   "cell_type": "code",
   "execution_count": 209,
   "id": "8628c1a5",
   "metadata": {},
   "outputs": [],
   "source": [
    "from sklearn.naive_bayes import BernoulliNB  , MultinomialNB\n",
    "from sklearn.ensemble import RandomForestClassifier , ExtraTreesClassifier\n",
    "from sklearn.linear_model import LogisticRegression\n",
    "from sklearn.svm import SVC"
   ]
  },
  {
   "cell_type": "code",
   "execution_count": 196,
   "id": "13026dec",
   "metadata": {},
   "outputs": [],
   "source": [
    "BernoulliNB = BernoulliNB()"
   ]
  },
  {
   "cell_type": "code",
   "execution_count": 197,
   "id": "88b15f48",
   "metadata": {},
   "outputs": [],
   "source": [
    "MultinomialNB = MultinomialNB()"
   ]
  },
  {
   "cell_type": "code",
   "execution_count": 198,
   "id": "ee6f0909",
   "metadata": {},
   "outputs": [],
   "source": [
    "RandomForestClassifier = RandomForestClassifier()"
   ]
  },
  {
   "cell_type": "code",
   "execution_count": 199,
   "id": "22bddbdc",
   "metadata": {},
   "outputs": [],
   "source": [
    "ExtraTreesClassifier = ExtraTreesClassifier()"
   ]
  },
  {
   "cell_type": "code",
   "execution_count": 200,
   "id": "5e42b655",
   "metadata": {},
   "outputs": [],
   "source": [
    "LogisticRegression = LogisticRegression()"
   ]
  },
  {
   "cell_type": "code",
   "execution_count": 210,
   "id": "b028eca4",
   "metadata": {},
   "outputs": [],
   "source": [
    "SVC = SVC()"
   ]
  },
  {
   "cell_type": "markdown",
   "id": "fd167428",
   "metadata": {},
   "source": [
    "# Model Training"
   ]
  },
  {
   "cell_type": "code",
   "execution_count": 214,
   "id": "912f84ce",
   "metadata": {},
   "outputs": [],
   "source": [
    "from sklearn.model_selection import cross_val_score , StratifiedKFold ,cross_val_predict"
   ]
  },
  {
   "cell_type": "code",
   "execution_count": 202,
   "id": "fc97c9a5",
   "metadata": {},
   "outputs": [],
   "source": [
    "cv = StratifiedKFold(n_splits=5, shuffle=True, random_state=100)"
   ]
  },
  {
   "cell_type": "code",
   "execution_count": 203,
   "id": "879c4982",
   "metadata": {},
   "outputs": [
    {
     "data": {
      "text/plain": [
       "array([0.90613718, 0.90776301, 0.91449204, 0.9120302 , 0.91137371])"
      ]
     },
     "execution_count": 203,
     "metadata": {},
     "output_type": "execute_result"
    }
   ],
   "source": [
    "cross_val_score(estimator=BernoulliNB , cv = cv , X =new_x  , y = new_y)"
   ]
  },
  {
   "cell_type": "code",
   "execution_count": 204,
   "id": "2a90e1ba",
   "metadata": {},
   "outputs": [
    {
     "data": {
      "text/plain": [
       "array([0.89973745, 0.89807976, 0.90694239, 0.90530117, 0.90645002])"
      ]
     },
     "execution_count": 204,
     "metadata": {},
     "output_type": "execute_result"
    }
   ],
   "source": [
    "cross_val_score(estimator=MultinomialNB , cv = cv ,X =new_x  , y = new_y)"
   ]
  },
  {
   "cell_type": "code",
   "execution_count": 205,
   "id": "b3879c09",
   "metadata": {},
   "outputs": [
    {
     "data": {
      "text/plain": [
       "array([0.95454545, 0.95470212, 0.9502708 , 0.95371738, 0.95207615])"
      ]
     },
     "execution_count": 205,
     "metadata": {},
     "output_type": "execute_result"
    }
   ],
   "source": [
    "cross_val_score(estimator=RandomForestClassifier , cv = cv ,X =new_x  , y = new_y)"
   ]
  },
  {
   "cell_type": "code",
   "execution_count": 206,
   "id": "4eb45d93",
   "metadata": {},
   "outputs": [
    {
     "data": {
      "text/plain": [
       "array([0.96914998, 0.96980141, 0.96454948, 0.9668472 , 0.96717545])"
      ]
     },
     "execution_count": 206,
     "metadata": {},
     "output_type": "execute_result"
    }
   ],
   "source": [
    "cross_val_score(estimator=ExtraTreesClassifier , cv = cv , X =new_x  , y = new_y)"
   ]
  },
  {
   "cell_type": "code",
   "execution_count": 207,
   "id": "cb81aefc",
   "metadata": {},
   "outputs": [
    {
     "data": {
      "text/plain": [
       "array([0.9174598 , 0.90825538, 0.91367143, 0.91301494, 0.91662564])"
      ]
     },
     "execution_count": 207,
     "metadata": {},
     "output_type": "execute_result"
    }
   ],
   "source": [
    "cross_val_score(estimator=LogisticRegression , cv = cv , X =new_x  , y = new_y)"
   ]
  },
  {
   "cell_type": "code",
   "execution_count": 211,
   "id": "f26089eb",
   "metadata": {},
   "outputs": [
    {
     "data": {
      "text/plain": [
       "array([0.96094519, 0.96340062, 0.96061054, 0.96028229, 0.95798457])"
      ]
     },
     "execution_count": 211,
     "metadata": {},
     "output_type": "execute_result"
    }
   ],
   "source": [
    "cross_val_score(estimator=SVC , cv = cv , X =new_x  , y = new_y)"
   ]
  },
  {
   "cell_type": "code",
   "execution_count": 212,
   "id": "a605ef0d",
   "metadata": {},
   "outputs": [],
   "source": [
    "#ExtraTreesClassifier and SVC are the best "
   ]
  },
  {
   "cell_type": "markdown",
   "id": "3fc4c6b5",
   "metadata": {},
   "source": [
    "# Formal Evaluation"
   ]
  },
  {
   "cell_type": "code",
   "execution_count": 219,
   "id": "f3bed1f3",
   "metadata": {},
   "outputs": [
    {
     "name": "stdout",
     "output_type": "stream",
     "text": [
      "Confusion Matrix:\n",
      " [[14328   905]\n",
      " [ 2136 13097]]\n"
     ]
    }
   ],
   "source": [
    "model = LogisticRegression()\n",
    "\n",
    "# Using cross_val_predict to get cross-validated predictions\n",
    "y_pred = cross_val_predict(estimator=model, X=new_x, y=new_y, cv=5)  # You can change cv to the desired number of folds\n",
    "\n",
    "# Calculating the confusion matrix\n",
    "conf_matrix = confusion_matrix(new_y, y_pred)\n",
    "\n",
    "print(\"Confusion Matrix:\\n\", conf_matrix)\n"
   ]
  },
  {
   "cell_type": "code",
   "execution_count": 220,
   "id": "3ff18714",
   "metadata": {},
   "outputs": [
    {
     "name": "stdout",
     "output_type": "stream",
     "text": [
      "Confusion Matrix:\n",
      " [[14286   947]\n",
      " [ 2515 12718]]\n"
     ]
    }
   ],
   "source": [
    "model = BernoulliNB()\n",
    "# Using cross_val_predict to get cross-validated predictions\n",
    "y_pred = cross_val_predict(estimator=model, X=new_x, y=new_y, cv=5)  # You can change cv to the desired number of folds\n",
    "\n",
    "# Calculating the confusion matrix\n",
    "conf_matrix = confusion_matrix(new_y, y_pred)\n",
    "\n",
    "print(\"Confusion Matrix:\\n\", conf_matrix)\n"
   ]
  },
  {
   "cell_type": "code",
   "execution_count": 221,
   "id": "50d98ba6",
   "metadata": {},
   "outputs": [
    {
     "name": "stdout",
     "output_type": "stream",
     "text": [
      "Confusion Matrix:\n",
      " [[14205  1028]\n",
      " [ 2734 12499]]\n"
     ]
    }
   ],
   "source": [
    "model = MultinomialNB()\n",
    "# Using cross_val_predict to get cross-validated predictions\n",
    "y_pred = cross_val_predict(estimator=model, X=new_x, y=new_y, cv=5)  # You can change cv to the desired number of folds\n",
    "\n",
    "# Calculating the confusion matrix\n",
    "conf_matrix = confusion_matrix(new_y, y_pred)\n",
    "\n",
    "print(\"Confusion Matrix:\\n\", conf_matrix)"
   ]
  },
  {
   "cell_type": "code",
   "execution_count": 224,
   "id": "d10f9d12",
   "metadata": {},
   "outputs": [
    {
     "name": "stdout",
     "output_type": "stream",
     "text": [
      "Confusion Matrix:\n",
      " [[15034   199]\n",
      " [  780 14453]]\n"
     ]
    }
   ],
   "source": [
    "model = ExtraTreesClassifier()\n",
    "# Using cross_val_predict to get cross-validated predictions\n",
    "y_pred = cross_val_predict(estimator=model, X=new_x, y=new_y, cv=5)  # You can change cv to the desired number of folds\n",
    "\n",
    "# Calculating the confusion matrix\n",
    "conf_matrix = confusion_matrix(new_y, y_pred)\n",
    "\n",
    "print(\"Confusion Matrix:\\n\", conf_matrix)"
   ]
  },
  {
   "cell_type": "code",
   "execution_count": 227,
   "id": "93f0e5cd",
   "metadata": {},
   "outputs": [
    {
     "data": {
      "text/plain": [
       "<AxesSubplot: >"
      ]
     },
     "execution_count": 227,
     "metadata": {},
     "output_type": "execute_result"
    },
    {
     "data": {
      "image/png": "[encoded data removed]",
      "text/plain": [
       "<Figure size 640x480 with 2 Axes>"
      ]
     },
     "metadata": {},
     "output_type": "display_data"
    }
   ],
   "source": [
    "sns.heatmap(conf_matrix , annot=True)"
   ]
  },
  {
   "cell_type": "markdown",
   "id": "73dfe53f",
   "metadata": {},
   "source": [
    "# Comments"
   ]
  },
  {
   "cell_type": "markdown",
   "id": "5482a6db",
   "metadata": {},
   "source": [
    "ExtraTreesClassifier is the best model they give the best accuracy and also true Positive and true Nagitive prediction are too high aslo false Nagitive and false postitive too low "
   ]
  },
  {
   "cell_type": "code",
   "execution_count": null,
   "id": "d8ca72a5",
   "metadata": {},
   "outputs": [],
   "source": []
  }
 ],
 "metadata": {
  "kernelspec": {
   "display_name": "Python 3 (ipykernel)",
   "language": "python",
   "name": "python3"
  },
  "language_info": {
   "codemirror_mode": {
    "name": "ipython",
    "version": 3
   },
   "file_extension": ".py",
   "mimetype": "text/x-python",
   "name": "python",
   "nbconvert_exporter": "python",
   "pygments_lexer": "ipython3",
   "version": "3.11.5"
  }
 },
 "nbformat": 4,
 "nbformat_minor": 5
}
